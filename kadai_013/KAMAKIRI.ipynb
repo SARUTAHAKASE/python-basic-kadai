{
  "nbformat": 4,
  "nbformat_minor": 0,
  "metadata": {
    "colab": {
      "provenance": []
    },
    "kernelspec": {
      "name": "python3",
      "display_name": "Python 3"
    },
    "language_info": {
      "name": "python"
    }
  },
  "cells": [
    {
      "cell_type": "code",
      "execution_count": null,
      "metadata": {
        "colab": {
          "base_uri": "https://localhost:8080/"
        },
        "id": "Ay3OesJi82k2",
        "outputId": "7852650c-dd47-4a84-af63-61f432796382"
      },
      "outputs": [
        {
          "output_type": "stream",
          "name": "stdout",
          "text": [
            "3\n"
          ]
        }
      ],
      "source": [
        "print(1+2)"
      ]
    },
    {
      "cell_type": "code",
      "source": [],
      "metadata": {
        "id": "3Mfig4DSzrSZ"
      },
      "execution_count": null,
      "outputs": []
    },
    {
      "cell_type": "code",
      "source": [],
      "metadata": {
        "id": "IGk4EX_5E5ue"
      },
      "execution_count": null,
      "outputs": []
    },
    {
      "cell_type": "code",
      "source": [
        "user_name = \"侍太郎\"\n",
        "print(user_name)"
      ],
      "metadata": {
        "colab": {
          "base_uri": "https://localhost:8080/"
        },
        "id": "IICCQe1sF6He",
        "outputId": "ca38660b-9227-48d9-b45f-1d5a4d38e44c"
      },
      "execution_count": null,
      "outputs": [
        {
          "output_type": "stream",
          "name": "stdout",
          "text": [
            "侍太郎\n"
          ]
        }
      ]
    },
    {
      "cell_type": "code",
      "source": [
        "user_name = \"侍花子\"\n",
        "print(user_name)"
      ],
      "metadata": {
        "colab": {
          "base_uri": "https://localhost:8080/"
        },
        "id": "vKcbqte8GSMX",
        "outputId": "34559717-c602-4d7f-cbea-e5d005a1cbaa"
      },
      "execution_count": null,
      "outputs": [
        {
          "output_type": "stream",
          "name": "stdout",
          "text": [
            "侍花子\n"
          ]
        }
      ]
    },
    {
      "cell_type": "code",
      "source": [],
      "metadata": {
        "id": "U5vWdxSmIuy8"
      },
      "execution_count": null,
      "outputs": []
    },
    {
      "cell_type": "code",
      "source": [
        "last_name = \"曙\"\n",
        "first_name = \"太郎\"\n",
        "sister_name = \"花子\"\n",
        "\n",
        "# 3つの辺寸を文字列内に埋め込んで表示\n",
        "print(f\"私の名前は{last_name}{first_name}です。妹の名前は{sister_name}です。\")"
      ],
      "metadata": {
        "colab": {
          "base_uri": "https://localhost:8080/"
        },
        "id": "Uu4k5bxnMuEt",
        "outputId": "4291ead3-1e88-4e71-c09e-d5598cf67fb0"
      },
      "execution_count": null,
      "outputs": [
        {
          "output_type": "stream",
          "name": "stdout",
          "text": [
            "私の名前は曙太郎です。妹の名前は花子です。\n"
          ]
        }
      ]
    },
    {
      "cell_type": "code",
      "source": [],
      "metadata": {
        "id": "gBqHGtI1md_B"
      },
      "execution_count": null,
      "outputs": []
    },
    {
      "cell_type": "code",
      "source": [
        "user_names = [\"侍太郎\", \"侍一郎\", \"侍二郎\", \"侍三郎\", \"侍四郎\"]\n",
        "\n",
        "print(user_names[1]) # 2番目の要素だけを表示\n",
        "\n",
        "user_names[1] = \"侍花子\" # 2番目の要素を更新\n",
        "print(user_names)\n",
        "\n",
        "user_names.append(\"侍五郎\")  #6番目の要素を追加\n",
        "print(user_names)\n",
        "\n",
        "user_names.pop(2) #  3番目の要素を削除\n",
        "print(user_names)"
      ],
      "metadata": {
        "colab": {
          "base_uri": "https://localhost:8080/"
        },
        "id": "L4IzdZb0lCuI",
        "outputId": "b839d291-be5b-4854-9009-f12c568e78ab"
      },
      "execution_count": null,
      "outputs": [
        {
          "output_type": "stream",
          "name": "stdout",
          "text": [
            "侍一郎\n",
            "['侍太郎', '侍花子', '侍二郎', '侍三郎', '侍四郎']\n",
            "['侍太郎', '侍花子', '侍二郎', '侍三郎', '侍四郎', '侍五郎']\n",
            "['侍太郎', '侍花子', '侍三郎', '侍四郎', '侍五郎']\n"
          ]
        }
      ]
    },
    {
      "cell_type": "code",
      "source": [
        "#　整数型と浮動小数点型の足し算\n",
        "number1 = 5\n",
        "number2 = 2.5\n",
        "print(number1 + number2)\n",
        "\n",
        "# 文字列型と文字列型の連結\n",
        "last_name = \"侍\"\n",
        "first_name = \"太郎\"\n",
        "print(last_name + first_name)"
      ],
      "metadata": {
        "colab": {
          "base_uri": "https://localhost:8080/"
        },
        "id": "iV7bqp_8Iz-_",
        "outputId": "821187f2-d6cf-4354-fc58-91dc5492a6d2"
      },
      "execution_count": null,
      "outputs": [
        {
          "output_type": "stream",
          "name": "stdout",
          "text": [
            "7.5\n",
            "侍太郎\n"
          ]
        }
      ]
    },
    {
      "cell_type": "code",
      "source": [
        "print(45 + 18)\n",
        "print(30 - 12)\n",
        "print(15 * 6)\n",
        "print(30 / 3)\n",
        "print(45 % 8)\n"
      ],
      "metadata": {
        "colab": {
          "base_uri": "https://localhost:8080/"
        },
        "id": "wJ0tOAOS9vCy",
        "outputId": "6dee05c7-60be-45ed-c418-8d35a182b4b2"
      },
      "execution_count": null,
      "outputs": [
        {
          "output_type": "stream",
          "name": "stdout",
          "text": [
            "63\n",
            "18\n",
            "90\n",
            "10.0\n",
            "5\n"
          ]
        }
      ]
    },
    {
      "cell_type": "code",
      "source": [
        "print(45 + 1.8)\n",
        "print(3 -1.2)\n",
        "print(15 * 0.6)\n",
        "print(3 / 0.3)\n",
        "print(45 % 0.8)\n"
      ],
      "metadata": {
        "colab": {
          "base_uri": "https://localhost:8080/"
        },
        "id": "yUG9Ij7BKyDD",
        "outputId": "88f6bda9-d6aa-487a-cdf3-fad5579377e4"
      },
      "execution_count": null,
      "outputs": [
        {
          "output_type": "stream",
          "name": "stdout",
          "text": [
            "46.8\n",
            "1.8\n",
            "9.0\n",
            "10.0\n",
            "0.1999999999999975\n"
          ]
        }
      ]
    },
    {
      "cell_type": "code",
      "source": [
        "print(\"今日の天気は\" + \"晴れ\")\n",
        "print(\"今日の天気は\" \"曇り\")\n"
      ],
      "metadata": {
        "colab": {
          "base_uri": "https://localhost:8080/"
        },
        "id": "B-79m3ClMKdd",
        "outputId": "82572789-4eb9-48f6-b207-b8dc4bf93984"
      },
      "execution_count": null,
      "outputs": [
        {
          "output_type": "stream",
          "name": "stdout",
          "text": [
            "今日の天気は晴れ\n",
            "今日の天気は曇り\n"
          ]
        }
      ]
    },
    {
      "cell_type": "code",
      "source": [
        "print(\"降水確率\" + \"50\" + \"％\" )\n",
        "print(\"降水確率\" + str(50) +\"％\")\n"
      ],
      "metadata": {
        "colab": {
          "base_uri": "https://localhost:8080/"
        },
        "id": "SO1SeFjJMzno",
        "outputId": "f773776c-c06a-47e5-f036-bd7b0b169fcb"
      },
      "execution_count": null,
      "outputs": [
        {
          "output_type": "stream",
          "name": "stdout",
          "text": [
            "降水確率50％\n",
            "降水確率50％\n"
          ]
        }
      ]
    },
    {
      "cell_type": "code",
      "source": [
        "print(\"晴れ\" * 5)"
      ],
      "metadata": {
        "colab": {
          "base_uri": "https://localhost:8080/"
        },
        "id": "5rPxA9iSNXzr",
        "outputId": "c3aad6d0-d491-4b9c-d86f-e2b5ede34215"
      },
      "execution_count": null,
      "outputs": [
        {
          "output_type": "stream",
          "name": "stdout",
          "text": [
            "晴れ晴れ晴れ晴れ晴れ\n"
          ]
        }
      ]
    },
    {
      "cell_type": "code",
      "source": [
        "country_names = (\"日本\", \"アメリカ\", \"イギリス\", \"フランス\")\n",
        "\n",
        "#  3番目の要素を取り出す\n",
        "print(country_names[2])\n",
        "\n",
        "#  すべての要素を取り出す\n",
        "print(country_names)"
      ],
      "metadata": {
        "colab": {
          "base_uri": "https://localhost:8080/"
        },
        "id": "_PjZ0dPIbhK9",
        "outputId": "8bad884d-c539-4ede-cbd0-e46c50c5513e"
      },
      "execution_count": null,
      "outputs": [
        {
          "output_type": "stream",
          "name": "stdout",
          "text": [
            "イギリス\n",
            "('日本', 'アメリカ', 'イギリス', 'フランス')\n"
          ]
        }
      ]
    },
    {
      "cell_type": "code",
      "source": [
        "country_names = {\"アメリカ\", \"イギリス\",\"日本\", \"フランス\"}\n",
        "\n",
        "#  セット全体を表示\n",
        "print(country_names)\n",
        "\n",
        "country_names.add(\"ドイツ\")  #「ドイツ」をセットに追加\n",
        "print(country_names)\n",
        "\n",
        "country_names.remove(\"イギリス\")  #  セットから「イギリス」を削除\n",
        "print(country_names)"
      ],
      "metadata": {
        "colab": {
          "base_uri": "https://localhost:8080/"
        },
        "id": "WRj0ogWRdoy_",
        "outputId": "b4f669b5-d63b-476e-9db6-102b0e9de6aa"
      },
      "execution_count": null,
      "outputs": [
        {
          "output_type": "stream",
          "name": "stdout",
          "text": [
            "{'アメリカ', 'フランス', 'イギリス', '日本'}\n",
            "{'日本', 'ドイツ', 'イギリス', 'アメリカ', 'フランス'}\n",
            "{'日本', 'ドイツ', 'アメリカ', 'フランス'}\n"
          ]
        }
      ]
    },
    {
      "cell_type": "code",
      "source": [
        "#  連想配列を作成\n",
        "personal_data = {\"name\": \"侍太郎\", \"age\": 36, \"gender\": \"男性\"}\n",
        "\n",
        "#  キー「name」の値を表示\n",
        "print(personal_data[\"name\"])\n",
        "\n",
        "#  連想配列全体を表示\n",
        "print(personal_data)\n",
        "\n",
        "#  キー「age」の値を更新\n",
        "personal_data[\"age\"] = 37\n",
        "\n",
        "#　新しく要素(キーと値)を追加\n",
        "personal_data[\"address\"] = \"東京都\"\n",
        "\n",
        "#  連想配列全体を表示\n",
        "print(personal_data)\n",
        "\n"
      ],
      "metadata": {
        "colab": {
          "base_uri": "https://localhost:8080/"
        },
        "id": "Pfr1DrRqd8uP",
        "outputId": "b22ccb6a-3e98-4b8f-c601-2734c5325609"
      },
      "execution_count": null,
      "outputs": [
        {
          "output_type": "stream",
          "name": "stdout",
          "text": [
            "侍太郎\n",
            "{'name': '侍太郎', 'age': 36, 'gender': '男性'}\n",
            "{'name': '侍太郎', 'age': 37, 'gender': '男性', 'address': '東京都'}\n"
          ]
        }
      ]
    },
    {
      "cell_type": "code",
      "source": [
        "print(45 + 18) #  算術演算\n",
        "print(45 > 18) #"
      ],
      "metadata": {
        "colab": {
          "base_uri": "https://localhost:8080/"
        },
        "id": "IO46qlOHs80P",
        "outputId": "86b2239b-2c61-45b0-dab7-a9aac3e02634"
      },
      "execution_count": null,
      "outputs": [
        {
          "output_type": "stream",
          "name": "stdout",
          "text": [
            "63\n",
            "True\n"
          ]
        }
      ]
    },
    {
      "cell_type": "code",
      "source": [
        "print(\"5\" == 5)"
      ],
      "metadata": {
        "colab": {
          "base_uri": "https://localhost:8080/"
        },
        "id": "Z9Qt8ghM04XU",
        "outputId": "3ea01e81-886b-40cd-f870-3f9b520bd93f"
      },
      "execution_count": null,
      "outputs": [
        {
          "output_type": "stream",
          "name": "stdout",
          "text": [
            "False\n"
          ]
        }
      ]
    },
    {
      "cell_type": "code",
      "source": [
        "#ランダムな整数を利用するために、randomモジュールをインポート\n",
        "import random\n",
        "\n",
        "#  変数numに0～4までのランダムな整数を代入する\n",
        "num = random.randint(0, 4)\n",
        "\n",
        "# 変数numの値を出力\n",
        "print(num)\n",
        "\n",
        "#  変数numの値が4であれば、「大当たりです」という文字列を出力する\n",
        "if num == 4:\n",
        "  print(\"大当たりです\")"
      ],
      "metadata": {
        "colab": {
          "base_uri": "https://localhost:8080/"
        },
        "id": "L4IE-EaW3Kce",
        "outputId": "5f4f4a85-3259-41bc-fccf-6cec224308e2"
      },
      "execution_count": null,
      "outputs": [
        {
          "output_type": "stream",
          "name": "stdout",
          "text": [
            "4\n",
            "大当たりです\n"
          ]
        }
      ]
    },
    {
      "cell_type": "code",
      "source": [
        "#  ランダムな整数を利用するために、randomもジールをインポート\n",
        "import random\n",
        "\n",
        "#  変数numに0～4までのランダムな整数を代入する\n",
        "num = random.randint(0, 4)\n",
        "\n",
        "#  変数numの値を出力\n",
        "print(num)\n",
        "\n",
        "#  変数のnumの値が4なら「大当たりです」、それ以外なら「はずれです」と出力する\n",
        "if num == 4:\n",
        "  print(\"大当たりです\")\n",
        "else:\n",
        "  print(\"ハズレです\")"
      ],
      "metadata": {
        "colab": {
          "base_uri": "https://localhost:8080/"
        },
        "id": "J-FENZSXzyF7",
        "outputId": "77e72625-9b85-4c4a-f0e4-caf5aaa3d26f"
      },
      "execution_count": null,
      "outputs": [
        {
          "output_type": "stream",
          "name": "stdout",
          "text": [
            "2\n",
            "ハズレです\n"
          ]
        }
      ]
    },
    {
      "cell_type": "code",
      "source": [
        "import random\n",
        "num = random.randint(0, 4)\n",
        "print(num)\n",
        "\n",
        "if num == 4:\n",
        "  print(\"大当たりです\")\n",
        "elif num == 3:\n",
        "  print(\"当たりです\")\n",
        "else:\n",
        "  print(\"はずれです\")\n"
      ],
      "metadata": {
        "colab": {
          "base_uri": "https://localhost:8080/"
        },
        "id": "NwrvcXyA0j9v",
        "outputId": "4ec6e1b1-f298-4dfb-8284-89cd1cf81b52"
      },
      "execution_count": null,
      "outputs": [
        {
          "output_type": "stream",
          "name": "stdout",
          "text": [
            "0\n",
            "はずれです\n"
          ]
        }
      ]
    },
    {
      "cell_type": "code",
      "source": [
        "import random\n",
        "\n",
        "num = random.randint(0, 4)\n",
        "print(num)\n",
        "\n",
        "if 1 < num and num < 3:\n",
        "  print(\"変数numは1より大きく、3より小さいです\")\n",
        "else:\n",
        "  print(\"and条件が成り立ちませんでした\")\n",
        "\n",
        "#　1つでも条件が成り立てば処理を行う(変数numの値が1または3）\n",
        "if num == 1 or num == 3:\n",
        "  print(\"変数numは1または3です\")\n",
        "else:\n",
        "  print(\"or条件が成り立ちませんでした\")"
      ],
      "metadata": {
        "colab": {
          "base_uri": "https://localhost:8080/"
        },
        "id": "efeTsAEyBF2o",
        "outputId": "9f5bb801-cc78-4006-9732-f2b6ac73b441"
      },
      "execution_count": null,
      "outputs": [
        {
          "output_type": "stream",
          "name": "stdout",
          "text": [
            "2\n",
            "変数numは1より大きく、3より小さいです\n",
            "or条件が成り立ちませんでした\n"
          ]
        }
      ]
    },
    {
      "cell_type": "code",
      "source": [
        "base1 = 10\n",
        "base2 = 20\n",
        "height = 5\n",
        "\n",
        "area = (base1 + base2) * height / 2\n",
        "print(f\"{area}cm²\")\n",
        "print(str(area) + \"cm²\")\n",
        "\n"
      ],
      "metadata": {
        "colab": {
          "base_uri": "https://localhost:8080/"
        },
        "id": "i9RM9mx_Yrhl",
        "outputId": "ce05c335-7082-4b21-9e68-1e8b9b77c5bd"
      },
      "execution_count": null,
      "outputs": [
        {
          "output_type": "stream",
          "name": "stdout",
          "text": [
            "75.0cm²\n",
            "75.0cm²\n"
          ]
        }
      ]
    },
    {
      "cell_type": "code",
      "source": [
        "array = [\"月曜日は晴れです\", \"火曜日は雨です\", \"水曜日は晴れです\", \"木曜日は晴れです\", \"金曜日は曇りです\", \"土曜日は曇りのち雨です\", \"日曜日は雷雨です\"]\n",
        "print(array)\n",
        "print(array[2])\n",
        "\n",
        "dictionary = {\"mon\" : \"晴れ\",\"tue\" : \"雨\", \"wed\" : \"晴れ\", \"thu\" : \"晴れ\", \"fri\" : \"曇り\", \"sat\" : \"曇りのち雨\", \"sun\" : \"雷雨\"}\n",
        "print(dictionary)\n",
        "print(dictionary[\"wed\"])"
      ],
      "metadata": {
        "id": "ovYjQ6Pugs6x",
        "colab": {
          "base_uri": "https://localhost:8080/"
        },
        "outputId": "cd130fc2-f3b8-44b6-9723-1c7ffaa54fcf"
      },
      "execution_count": null,
      "outputs": [
        {
          "output_type": "stream",
          "name": "stdout",
          "text": [
            "['月曜日は晴れです', '火曜日は雨です', '水曜日は晴れです', '木曜日は晴れです', '金曜日は曇りです', '土曜日は曇りのち雨です', '日曜日は雷雨です']\n",
            "水曜日は晴れです\n",
            "{'mon': '晴れ', 'tue': '雨', 'wed': '晴れ', 'thu': '晴れ', 'fri': '曇り', 'sat': '曇りのち雨', 'sun': '雷雨'}\n",
            "晴れ\n"
          ]
        }
      ]
    },
    {
      "cell_type": "code",
      "source": [
        "import random\n",
        "var = random.randint(1, 99)\n",
        "print(var)\n",
        "\n",
        "if var % 3 == 0 and var % 5 == 0 :\n",
        "  print(\"FizzBuzz\")\n",
        "\n",
        "elif var % 3 == 0 :\n",
        "  print(\"Fizz\")\n",
        "\n",
        "elif var % 5 == 0 :\n",
        "  print(\"Buzz\")\n",
        "\n",
        "else:\n",
        "  print(var)\n"
      ],
      "metadata": {
        "colab": {
          "base_uri": "https://localhost:8080/"
        },
        "id": "PvT3J3WYMwnK",
        "outputId": "ceb576f6-3e9c-4ce5-ee10-ffea2ffb7f85"
      },
      "execution_count": null,
      "outputs": [
        {
          "output_type": "stream",
          "name": "stdout",
          "text": [
            "45\n",
            "FizzBuzz\n"
          ]
        }
      ]
    },
    {
      "cell_type": "code",
      "source": [
        "for i in range(1, 11):\n",
        "  print(i)"
      ],
      "metadata": {
        "colab": {
          "base_uri": "https://localhost:8080/"
        },
        "id": "KV0PsY61ifgf",
        "outputId": "2bab5f5d-736f-405f-d5da-ff7b4d13ad33"
      },
      "execution_count": null,
      "outputs": [
        {
          "output_type": "stream",
          "name": "stdout",
          "text": [
            "1\n",
            "2\n",
            "3\n",
            "4\n",
            "5\n",
            "6\n",
            "7\n",
            "8\n",
            "9\n",
            "10\n"
          ]
        }
      ]
    },
    {
      "cell_type": "code",
      "source": [
        "import random\n",
        "\n",
        "for i in range(1, 11):\n",
        "    num = random.randint(1, 20)\n",
        "\n",
        "    print(f\"{i}回目の結果は{num}です。\")\n",
        "\n",
        "    if num == 20:\n",
        "        print(\"20が出たので繰り返し処理を強制終了いたします。\")\n",
        "        break\n"
      ],
      "metadata": {
        "colab": {
          "base_uri": "https://localhost:8080/"
        },
        "id": "g6bcdQeujBRn",
        "outputId": "409c1a2f-9b59-4105-8063-08687a145a14"
      },
      "execution_count": null,
      "outputs": [
        {
          "output_type": "stream",
          "name": "stdout",
          "text": [
            "1回目の結果は9です。\n",
            "2回目の結果は5です。\n",
            "3回目の結果は1です。\n",
            "4回目の結果は11です。\n",
            "5回目の結果は19です。\n",
            "6回目の結果は4です。\n",
            "7回目の結果は19です。\n",
            "8回目の結果は4です。\n",
            "9回目の結果は9です。\n",
            "10回目の結果は5です。\n"
          ]
        }
      ]
    },
    {
      "cell_type": "code",
      "source": [
        "for i in range(1, 11):\n",
        "    if i % 2 == 1:\n",
        "      continue\n",
        "\n",
        "    print(i)"
      ],
      "metadata": {
        "colab": {
          "base_uri": "https://localhost:8080/"
        },
        "id": "c3KYhkD8lUdu",
        "outputId": "b0703511-79b5-4129-d922-b64c8a8f4e0b"
      },
      "execution_count": null,
      "outputs": [
        {
          "output_type": "stream",
          "name": "stdout",
          "text": [
            "2\n",
            "4\n",
            "6\n",
            "8\n",
            "10\n"
          ]
        }
      ]
    },
    {
      "cell_type": "code",
      "source": [
        "import random\n",
        "\n",
        "num = random.randint(0, 4)\n",
        "\n",
        "print(f\"最初の値は{num}です。\")\n",
        "\n",
        "while num != 0:\n",
        "    num = random.randint(0, 4)\n",
        "    print(f\"現在の値は{num}です。\")\n"
      ],
      "metadata": {
        "colab": {
          "base_uri": "https://localhost:8080/"
        },
        "id": "RtK8uAkqpPCG",
        "outputId": "79cab15f-cdd3-440e-f6cb-c807cc0be3db"
      },
      "execution_count": null,
      "outputs": [
        {
          "output_type": "stream",
          "name": "stdout",
          "text": [
            "最初の値は4です。\n",
            "現在の値は3です。\n",
            "現在の値は4です。\n",
            "現在の値は4です。\n",
            "現在の値は4です。\n",
            "現在の値は2です。\n",
            "現在の値は4です。\n",
            "現在の値は2です。\n",
            "現在の値は2です。\n",
            "現在の値は0です。\n"
          ]
        }
      ]
    },
    {
      "cell_type": "code",
      "source": [
        "import random\n",
        "\n",
        "num = random.randint(0, 4)\n",
        "\n",
        "i = 1\n",
        "print(f\"最初の値は{num}です。\")\n",
        "\n",
        "while num != 0:\n",
        "    num = random.randint(0, 4)\n",
        "\n",
        "    if i == 5:\n",
        "        print(\"5回目なので繰り返し処理を強制終了します。\")\n",
        "        break\n",
        "\n",
        "    print(f\"現在の値は{num}です。\")\n",
        "\n",
        "    i = i + 1"
      ],
      "metadata": {
        "colab": {
          "base_uri": "https://localhost:8080/"
        },
        "id": "d1X16AdurED-",
        "outputId": "63765d29-756e-4a8a-f0bf-ab11641a482b"
      },
      "execution_count": null,
      "outputs": [
        {
          "output_type": "stream",
          "name": "stdout",
          "text": [
            "最初の値は0です。\n"
          ]
        }
      ]
    },
    {
      "cell_type": "code",
      "source": [
        "import random\n",
        "\n",
        "sum = 0\n",
        "\n",
        "while sum < 20:\n",
        "    num = random.randint(1, 10)\n",
        "    print(f\"{num}が出ました。\")\n",
        "\n",
        "    if num % 2 == 0:\n",
        "        print(\"偶数なので加算しません。\")\n",
        "        continue\n",
        "\n",
        "    sum = sum + num\n",
        "    print(f\"現在の合計は{sum}です。\")"
      ],
      "metadata": {
        "colab": {
          "base_uri": "https://localhost:8080/"
        },
        "id": "-Lm1Zbq8tX6D",
        "outputId": "7f74b69a-0386-43b5-99e1-6bb129a84b6f"
      },
      "execution_count": null,
      "outputs": [
        {
          "output_type": "stream",
          "name": "stdout",
          "text": [
            "1が出ました。\n",
            "現在の合計は1です。\n",
            "5が出ました。\n",
            "現在の合計は6です。\n",
            "7が出ました。\n",
            "現在の合計は13です。\n",
            "2が出ました。\n",
            "偶数なので加算しません。\n",
            "2が出ました。\n",
            "偶数なので加算しません。\n",
            "2が出ました。\n",
            "偶数なので加算しません。\n",
            "7が出ました。\n",
            "現在の合計は20です。\n"
          ]
        }
      ]
    },
    {
      "cell_type": "code",
      "source": [
        "user_names = [\"侍太郎\", \"侍一郎\", \"侍二郎\", \"侍三郎\", \"侍四郎\"]\n",
        "for user in user_names:\n",
        "    print(user)"
      ],
      "metadata": {
        "colab": {
          "base_uri": "https://localhost:8080/"
        },
        "id": "ztNSV9kyHqFQ",
        "outputId": "43c01eff-ac79-4f9b-8d97-aae32ebc1968"
      },
      "execution_count": null,
      "outputs": [
        {
          "output_type": "stream",
          "name": "stdout",
          "text": [
            "侍太郎\n",
            "侍一郎\n",
            "侍二郎\n",
            "侍三郎\n",
            "侍四郎\n"
          ]
        }
      ]
    },
    {
      "cell_type": "code",
      "source": [
        "personal_data = {\"name\" : \"侍太郎\", \"age\" : \"36\", \"gender\" : \"男性\"}\n",
        "for key, value in personal_data.items():\n",
        "    print(f\"私の{key}は{value}です。\")\n",
        "\n",
        "for value in personal_data.values():\n",
        "    print(value)"
      ],
      "metadata": {
        "colab": {
          "base_uri": "https://localhost:8080/"
        },
        "id": "7m8_JHlGJN9e",
        "outputId": "3a0b5f58-fef9-4195-9d94-87edaa1418c4"
      },
      "execution_count": null,
      "outputs": [
        {
          "output_type": "stream",
          "name": "stdout",
          "text": [
            "私のnameは侍太郎です。\n",
            "私のageは36です。\n",
            "私のgenderは男性です。\n",
            "侍太郎\n",
            "36\n",
            "男性\n"
          ]
        }
      ]
    },
    {
      "cell_type": "code",
      "source": [
        "user_names = [\"侍太郎\", \"侍一郎\", \"侍二郎\", \"侍三郎\", \"侍四郎\"]\n",
        "for index, value in enumerate(user_names):\n",
        "    print(f\"{index} : {value}\")"
      ],
      "metadata": {
        "colab": {
          "base_uri": "https://localhost:8080/"
        },
        "id": "cXLwh5fFKyfJ",
        "outputId": "01b848ea-30ee-445f-c135-f875f85e2eeb"
      },
      "execution_count": null,
      "outputs": [
        {
          "output_type": "stream",
          "name": "stdout",
          "text": [
            "0 : 侍太郎\n",
            "1 : 侍一郎\n",
            "2 : 侍二郎\n",
            "3 : 侍三郎\n",
            "4 : 侍四郎\n"
          ]
        }
      ]
    },
    {
      "cell_type": "code",
      "source": [
        "user_names = [\"侍太郎\", \"侍一郎\", \"侍二郎\", \"侍三郎\", \"侍四郎\"]\n",
        "target = \"侍二郎\"\n",
        "\n",
        "for user_name in user_names:\n",
        "    print(user_name)\n",
        "\n",
        "    if user_name == target:\n",
        "        print (f\"{target}さんが見つかったので、繰り返し処理を強制終了します。\")\n",
        "        break\n"
      ],
      "metadata": {
        "colab": {
          "base_uri": "https://localhost:8080/"
        },
        "id": "S6KAveyRQn3X",
        "outputId": "3bd4cd82-5eae-4bd3-d259-2b46f63de8da"
      },
      "execution_count": null,
      "outputs": [
        {
          "output_type": "stream",
          "name": "stdout",
          "text": [
            "侍太郎\n",
            "侍一郎\n",
            "侍二郎\n",
            "侍二郎さんが見つかったので、繰り返し処理を強制終了します。\n"
          ]
        }
      ]
    },
    {
      "cell_type": "code",
      "source": [
        "score = {\n",
        "    \"国語\" : 80,\n",
        "    \"数学\" : 55,\n",
        "    \"理科\" : 70,\n",
        "    \"社会\" : 85,\n",
        "    \"英語\" : 60,\n",
        "}\n",
        "\n",
        "print(\"合格した科目は以下の通りです。\")\n",
        "\n",
        "for key, value in score.items():\n",
        "    if(value < 70):\n",
        "        continue\n",
        "    print(f\"{key} : {value}点\")"
      ],
      "metadata": {
        "colab": {
          "base_uri": "https://localhost:8080/"
        },
        "id": "elZyU_iESS2U",
        "outputId": "a896ec41-3d6e-43d0-fb04-da3f0f127f07"
      },
      "execution_count": null,
      "outputs": [
        {
          "output_type": "stream",
          "name": "stdout",
          "text": [
            "合格した科目は以下の通りです。\n",
            "国語 : 80点\n",
            "理科 : 70点\n",
            "社会 : 85点\n"
          ]
        }
      ]
    },
    {
      "cell_type": "code",
      "source": [
        "array = [\"水\",\"金\",\"地\",\"火\",\"木\",\"土\",\"天\",\"海\",\"冥\"]\n",
        "\n",
        "for planet in array:\n",
        "    print(planet)\n",
        "for planet in array:\n",
        "    print(planet)\n",
        "\n",
        "\n",
        "\n"
      ],
      "metadata": {
        "colab": {
          "base_uri": "https://localhost:8080/"
        },
        "id": "MsQR7_3gmou2",
        "outputId": "ee56cd87-4142-446f-aefd-8d5e5221e673"
      },
      "execution_count": null,
      "outputs": [
        {
          "output_type": "stream",
          "name": "stdout",
          "text": [
            "水\n",
            "金\n",
            "地\n",
            "火\n",
            "木\n",
            "土\n",
            "天\n",
            "海\n",
            "冥\n",
            "水\n",
            "金\n",
            "地\n",
            "火\n",
            "木\n",
            "土\n",
            "天\n",
            "海\n",
            "冥\n"
          ]
        }
      ]
    },
    {
      "cell_type": "code",
      "source": [
        "array = [\"水\", \"金\", \"地\", \"火\", \"木\", \"土\", \"天\", \"海\", \"冥\"]\n",
        "\n",
        "count = 0\n",
        "\n",
        "while count < 2:\n",
        "    for item in array:\n",
        "        print(item)\n",
        "    count = count + 1\n",
        "\n",
        "\n",
        "\n",
        "\n",
        "\n",
        "\n",
        "\n",
        "\n"
      ],
      "metadata": {
        "colab": {
          "base_uri": "https://localhost:8080/"
        },
        "id": "KZF-Ci4Lu7_o",
        "outputId": "bfbac68e-54fd-41d9-fad1-8b8b937994a4"
      },
      "execution_count": null,
      "outputs": [
        {
          "output_type": "stream",
          "name": "stdout",
          "text": [
            "水\n",
            "金\n",
            "地\n",
            "火\n",
            "木\n",
            "土\n",
            "天\n",
            "海\n",
            "冥\n",
            "水\n",
            "金\n",
            "地\n",
            "火\n",
            "木\n",
            "土\n",
            "天\n",
            "海\n",
            "冥\n"
          ]
        }
      ]
    },
    {
      "cell_type": "code",
      "source": [
        "array = [\"水\",\"金\",\"地\",\"火\",\"木\",\"土\",\"天\",\"海\",\"冥\"]\n",
        "\n",
        "# for\n",
        "for item in array:\n",
        "    print(item)\n",
        "\n",
        "# while\n",
        "i=0\n",
        "while(i < 9):\n",
        "    print(array[i])\n",
        "    i+=1\n"
      ],
      "metadata": {
        "colab": {
          "base_uri": "https://localhost:8080/"
        },
        "id": "iXaG2VGzFgWB",
        "outputId": "d38fd8f8-1aa4-4be2-df8a-e8ff0948f06f"
      },
      "execution_count": null,
      "outputs": [
        {
          "output_type": "stream",
          "name": "stdout",
          "text": [
            "水\n",
            "金\n",
            "地\n",
            "火\n",
            "木\n",
            "土\n",
            "天\n",
            "海\n",
            "冥\n",
            "水\n",
            "金\n",
            "地\n",
            "火\n",
            "木\n",
            "土\n",
            "天\n",
            "海\n",
            "冥\n"
          ]
        }
      ]
    },
    {
      "cell_type": "markdown",
      "source": [],
      "metadata": {
        "id": "QaqCugD8TiLW"
      }
    },
    {
      "cell_type": "code",
      "source": [
        "planet_names = [\"水\",\"金\",\"地\",\"火\",\"木\",\"土\",\"天\",\"海\",\"冥\"]\n",
        "\n",
        "for _ in range(2):\n",
        "    for planet_name in planet_names:\n",
        "        print(planet_name)"
      ],
      "metadata": {
        "colab": {
          "base_uri": "https://localhost:8080/"
        },
        "id": "x1oGdC1HP3v_",
        "outputId": "1f60e88b-05ee-4d5e-9e50-15361f416d9d"
      },
      "execution_count": null,
      "outputs": [
        {
          "output_type": "stream",
          "name": "stdout",
          "text": [
            "水\n",
            "金\n",
            "地\n",
            "火\n",
            "木\n",
            "土\n",
            "天\n",
            "海\n",
            "冥\n",
            "水\n",
            "金\n",
            "地\n",
            "火\n",
            "木\n",
            "土\n",
            "天\n",
            "海\n",
            "冥\n"
          ]
        }
      ]
    },
    {
      "cell_type": "code",
      "source": [
        "def say_good_morning():\n",
        "    print(\"おはようございます！\")\n",
        "    print(\"昨日はよく眠れましたか？\")\n",
        "    print(\"今日も一日頑張りましょう\")\n",
        "\n",
        "def say_good_evening():\n",
        "    print(\"こんばんは！\")\n",
        "    print(\"今日も一日お疲れさまでした。\")\n",
        "\n",
        "say_good_morning()\n",
        "\n",
        "say_good_evening()\n"
      ],
      "metadata": {
        "colab": {
          "base_uri": "https://localhost:8080/"
        },
        "id": "Oc_hr4_AYf1J",
        "outputId": "0a1a06f0-03dc-47c6-c927-18116deba487"
      },
      "execution_count": null,
      "outputs": [
        {
          "output_type": "stream",
          "name": "stdout",
          "text": [
            "おはようございます！\n",
            "昨日はよく眠れましたか？\n",
            "今日も一日頑張りましょう\n",
            "こんばんは！\n",
            "今日も一日お疲れさまでした。\n"
          ]
        }
      ]
    },
    {
      "cell_type": "code",
      "source": [
        "def calculate_total(price):\n",
        "    total = price + 500\n",
        "\n",
        "    print(f\"{total}円\")\n",
        "\n",
        "calculate_total(-700)\n"
      ],
      "metadata": {
        "colab": {
          "base_uri": "https://localhost:8080/"
        },
        "id": "mzsXjcxpcgKj",
        "outputId": "299039ba-f1dd-43de-ac0d-67fe8f7df60c"
      },
      "execution_count": null,
      "outputs": [
        {
          "output_type": "stream",
          "name": "stdout",
          "text": [
            "-200円\n"
          ]
        }
      ]
    },
    {
      "cell_type": "code",
      "source": [
        "def add_two_arguments(price, shipping_fee):\n",
        "    total = price + shipping_fee\n",
        "\n",
        "    print(f\"{total}円\")\n",
        "\n",
        "add_two_arguments(1300, 500)\n"
      ],
      "metadata": {
        "colab": {
          "base_uri": "https://localhost:8080/"
        },
        "id": "g6qqaz51dd-R",
        "outputId": "55ffc95d-6b09-4537-bd80-2cc27c30841a"
      },
      "execution_count": null,
      "outputs": [
        {
          "output_type": "stream",
          "name": "stdout",
          "text": [
            "1800円\n"
          ]
        }
      ]
    },
    {
      "cell_type": "code",
      "source": [
        "def calculate_total(price, tax):\n",
        "    total = price + price * tax / 100\n",
        "    return total\n",
        "\n",
        "total_price = calculate_total(110, 10)\n",
        "print(f\"消費税込みの金額は：{total_price}円です。\")"
      ],
      "metadata": {
        "colab": {
          "base_uri": "https://localhost:8080/"
        },
        "id": "n7nqr_cqzgpL",
        "outputId": "27696153-c380-440b-cc28-28c5f7e575ee"
      },
      "execution_count": 6,
      "outputs": [
        {
          "output_type": "stream",
          "name": "stdout",
          "text": [
            "消費税込みの金額は：121.0円です。\n"
          ]
        }
      ]
    }
  ]
}